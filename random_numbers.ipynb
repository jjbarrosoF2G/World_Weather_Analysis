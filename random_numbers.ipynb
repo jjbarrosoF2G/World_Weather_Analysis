{
 "cells": [
  {
   "cell_type": "code",
   "execution_count": 16,
   "id": "6eb6e1c8",
   "metadata": {},
   "outputs": [],
   "source": [
    "# Import the random module.\n",
    "import random\n",
    "import numpy as np\n",
    "import timeit"
   ]
  },
  {
   "cell_type": "code",
   "execution_count": 6,
   "id": "e3a5fd02",
   "metadata": {},
   "outputs": [
    {
     "data": {
      "text/plain": [
       "48"
      ]
     },
     "execution_count": 6,
     "metadata": {},
     "output_type": "execute_result"
    }
   ],
   "source": [
    "random.randint(-90, 90)"
   ]
  },
  {
   "cell_type": "code",
   "execution_count": 8,
   "id": "74453cfd",
   "metadata": {},
   "outputs": [
    {
     "data": {
      "text/plain": [
       "[-23.70897675750109,\n",
       " 58.85511458590153,\n",
       " 67.40879877833977,\n",
       " 86.07003858522093,\n",
       " -4.460892763795821,\n",
       " -44.88629069080808,\n",
       " -74.91093786996703,\n",
       " 15.762366204654818,\n",
       " -37.495499890449146,\n",
       " -55.63039170236973]"
      ]
     },
     "execution_count": 8,
     "metadata": {},
     "output_type": "execute_result"
    }
   ],
   "source": [
    "x = 1\n",
    "latitudes = []\n",
    "while x < 11:\n",
    "    random_lat = random.randint(-90, 89) + random.random()\n",
    "    latitudes.append(random_lat)\n",
    "    x += 1\n",
    "latitudes"
   ]
  },
  {
   "cell_type": "code",
   "execution_count": 10,
   "id": "2c95a180",
   "metadata": {},
   "outputs": [
    {
     "data": {
      "text/plain": [
       "12"
      ]
     },
     "execution_count": 10,
     "metadata": {},
     "output_type": "execute_result"
    }
   ],
   "source": [
    "random.randrange(-90, 90, step=3)"
   ]
  },
  {
   "cell_type": "code",
   "execution_count": 11,
   "id": "23eb40cd",
   "metadata": {},
   "outputs": [
    {
     "data": {
      "text/plain": [
       "36.634597297972334"
      ]
     },
     "execution_count": 11,
     "metadata": {},
     "output_type": "execute_result"
    }
   ],
   "source": [
    "random.uniform(-90, 90)"
   ]
  },
  {
   "cell_type": "code",
   "execution_count": 13,
   "id": "700f1221",
   "metadata": {},
   "outputs": [
    {
     "data": {
      "text/plain": [
       "-49.207729190627425"
      ]
     },
     "execution_count": 13,
     "metadata": {},
     "output_type": "execute_result"
    }
   ],
   "source": [
    "np.random.uniform(-90.000, 90.000)"
   ]
  },
  {
   "cell_type": "code",
   "execution_count": 22,
   "id": "dcbc61de",
   "metadata": {
    "scrolled": true
   },
   "outputs": [
    {
     "data": {
      "text/plain": [
       "array([ 76.21358935, -38.02658698, -83.17693026,  14.52673503,\n",
       "        54.66881222, -61.54961708, -89.58048854,  24.86683423,\n",
       "        85.22083959,  22.80394725, -36.1758619 , -68.42490802,\n",
       "       -61.59096068,  -2.50475823, -48.55007671, -21.66488634,\n",
       "       -25.17676378, -56.64322282,   4.77267474,  -0.13454538,\n",
       "        84.29744569, -58.1227659 , -56.47886597, -48.93922026,\n",
       "        55.93494181, -89.19047353, -37.70602735, -43.47124931,\n",
       "       -17.68361886,  15.26654272, -82.07148238,  34.3387706 ,\n",
       "        84.79297486, -58.05635302,  -8.04170586,  68.41749851,\n",
       "       -33.48387808, -87.9034087 ,  42.9686946 ,  41.67862579,\n",
       "        86.59730474,  -6.49682003,  65.3841829 , -50.72531684,\n",
       "       -23.15075176, -44.5096515 , -69.76418569,  46.31076679,\n",
       "       -55.55514359,  35.7025578 ])"
      ]
     },
     "execution_count": 22,
     "metadata": {},
     "output_type": "execute_result"
    }
   ],
   "source": [
    "np.random.uniform(-90.000, 90.000, size=50)"
   ]
  },
  {
   "cell_type": "code",
   "execution_count": 24,
   "id": "6fb89a11",
   "metadata": {
    "scrolled": true
   },
   "outputs": [
    {
     "name": "stdout",
     "output_type": "stream",
     "text": [
      "14.1 µs ± 274 ns per loop (mean ± std. dev. of 7 runs, 100000 loops each)\n"
     ]
    }
   ],
   "source": [
    "%timeit np.random.uniform(-90.000, 90.000, size=1500)"
   ]
  },
  {
   "cell_type": "code",
   "execution_count": 25,
   "id": "a93ca2cc",
   "metadata": {},
   "outputs": [
    {
     "name": "stdout",
     "output_type": "stream",
     "text": [
      "1.64 ms ± 58.9 µs per loop (mean ± std. dev. of 7 runs, 1000 loops each)\n"
     ]
    }
   ],
   "source": [
    "def latitudes(size):\n",
    "    latitudes = []\n",
    "    x = 0\n",
    "    while x < (size):\n",
    "        random_lat = random.randint(-90, 90) + random.random()\n",
    "        latitudes.append(random_lat)\n",
    "        x += 1\n",
    "    return latitudes\n",
    "# Call the function with 1500.\n",
    "%timeit latitudes(1500)"
   ]
  },
  {
   "cell_type": "code",
   "execution_count": 26,
   "id": "76360444",
   "metadata": {},
   "outputs": [
    {
     "name": "stdout",
     "output_type": "stream",
     "text": [
      "13.1 µs ± 296 ns per loop (mean ± std. dev. of 7 runs, 100000 loops each)\n"
     ]
    }
   ],
   "source": [
    "%timeit np.random.uniform(-180.000, 180.000, size=1500)"
   ]
  }
 ],
 "metadata": {
  "kernelspec": {
   "display_name": "PythonData",
   "language": "python",
   "name": "pythondata"
  },
  "language_info": {
   "codemirror_mode": {
    "name": "ipython",
    "version": 3
   },
   "file_extension": ".py",
   "mimetype": "text/x-python",
   "name": "python",
   "nbconvert_exporter": "python",
   "pygments_lexer": "ipython3",
   "version": "3.7.6"
  }
 },
 "nbformat": 4,
 "nbformat_minor": 5
}
